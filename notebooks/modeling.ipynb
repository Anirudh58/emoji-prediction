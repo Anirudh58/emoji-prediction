{
 "cells": [
  {
   "cell_type": "code",
   "execution_count": null,
   "id": "2ec7c739-0a4a-4752-9580-9f4cd8c1df0a",
   "metadata": {},
   "outputs": [],
   "source": [
    "import os\n",
    "import sys\n",
    "import tqdm\n",
    "\n",
    "from collections import defaultdict\n",
    "import json\n",
    "import re\n",
    "\n",
    "import matplotlib.pyplot as plt\n",
    "\n",
    "sys.path.insert(0, '..')\n",
    "from src import emojilib\n",
    "\n",
    "# torch\n",
    "# torch\n",
    "import torch\n",
    "from torch.utils.data import Dataset"
   ]
  },
  {
   "cell_type": "markdown",
   "id": "2c5cf2d1-d906-47b6-99b1-1483acbbd0de",
   "metadata": {},
   "source": [
    "## Config"
   ]
  },
  {
   "cell_type": "code",
   "execution_count": null,
   "id": "5bac0c4f-433f-45e7-b4f3-e88e476d10a9",
   "metadata": {},
   "outputs": [],
   "source": [
    "root_path = './'\n",
    "clean_data_folder_path = os.path.join(root_path, 'data', 'clean_data')\n",
    "tweet_text_path = os.path.join(clean_data_folder_path, 'tweet_by_ID_30_4_2022__08_11_07.txt.text')\n",
    "tweet_id_path = os.path.join(clean_data_folder_path, 'tweet_by_ID_30_4_2022__08_11_07.txt.ids')\n",
    "tweet_label_path = os.path.join(clean_data_folder_path, 'tweet_by_ID_30_4_2022__08_11_07.txt.labels')\n",
    "\n",
    "# target emojis\n",
    "mapping = { \n",
    "    '❤':'0' , '😍':'1' , '😂':'2' , '💕':'3' , \n",
    "    '🔥':'4' , '😊':'5' , '😎':'6' , '✨':'7' , \n",
    "    '💙':'8' , '😘':'9' , '📷':'10' , '🇺🇸':'11' , \n",
    "    '☀':'12' , '💜':'13' , '😉':'14' , '💯':'15' , \n",
    "    '😁':'16' , '🎄':'17' , '📸':'18' , '😜':'19'\n",
    "}"
   ]
  },
  {
   "cell_type": "markdown",
   "id": "208fd581-a9b8-424f-afc9-6511826aabd8",
   "metadata": {},
   "source": [
    "## Dataset Class [WIP]"
   ]
  },
  {
   "cell_type": "code",
   "execution_count": null,
   "id": "e5bccc57-9213-4fa0-9999-f92da3d4f7db",
   "metadata": {},
   "outputs": [],
   "source": [
    "class EmojiDataset(Dataset):\n",
    "    def __init__(self, dataset_path, transforms=None):\n",
    "        tweet_text_path = os.path.join(dataset_path, 'tweet_by_ID_30_4_2022__08_11_07.txt.text')\n",
    "        tweet_label_path = os.path.join(dataset_path, 'tweet_by_ID_30_4_2022__08_11_07.txt.labels')\n",
    "        \n",
    "        sentences = []\n",
    "        labels = []\n",
    "        \n",
    "    def __len__(self):\n",
    "        return len(self.dataset)\n",
    "    \n",
    "    def __getitem__(self, idx):\n",
    "        \n",
    "        "
   ]
  }
 ],
 "metadata": {
  "kernelspec": {
   "display_name": "Python 3",
   "language": "python",
   "name": "python3"
  },
  "language_info": {
   "codemirror_mode": {
    "name": "ipython",
    "version": 3
   },
   "file_extension": ".py",
   "mimetype": "text/x-python",
   "name": "python",
   "nbconvert_exporter": "python",
   "pygments_lexer": "ipython3",
   "version": "3.8.12"
  }
 },
 "nbformat": 4,
 "nbformat_minor": 5
}
